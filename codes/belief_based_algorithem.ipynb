{
  "cells": [
    {
      "cell_type": "code",
      "execution_count": 2,
      "metadata": {
        "id": "rCSRaILfBEYc"
      },
      "outputs": [],
      "source": [
        "class blief_based_q_agent():\n",
        "    def __init__(self, discount_factor, num_episodes,alpha, environment):\n",
        "        self.discount_factor = discount_factor\n",
        "        self.num_episodes = num_episodes\n",
        "        self.env = environment\n",
        "        self.alpha = alpha\n",
        "        self.scale = 20\n",
        "\n",
        "     # Function for get single state\n",
        "    def get_single_state(self, state):\n",
        "        new_state = []\n",
        "        for position in range(len(state)):\n",
        "            new_value = (state[position] + 2)\n",
        "            if new_value < 0 :\n",
        "              new_value = 0\n",
        "            if new_value > 4 :\n",
        "              new_value = 4\n",
        "            new_state.append(int(round(new_value, 0)))\n",
        "        single_state = int(new_state[0]/0.2   - 1 )*self.scale + int(new_state[1]/0.2) -1\n",
        "\n",
        "        return single_state\n",
        "\n",
        "\n",
        "    def epsilon_greedy(self,Q, epsilon, n_actions, state, action2):\n",
        "\n",
        "        if np.random.rand() < epsilon:\n",
        "            action = np.random.randint(0, n_actions)\n",
        "        else:\n",
        "            action = np.argmax([Q[state][i][action2] for i in range(n_actions)])\n",
        "        return action\n",
        "\n",
        "    def sarsa(self,env, alpha, gamma,  episodes):\n",
        "\n",
        "        n_states, n_actions = 400,5\n",
        "        Qa = np.zeros((n_states, n_actions, n_actions))\n",
        "        Qb = np.zeros((n_states, n_actions, n_actions))\n",
        "        epsilons = 0.55\n",
        "        timestep_reward1 = []\n",
        "        timestep_reward2 = []\n",
        "        a2 = np.random.randint(0, n_actions)\n",
        "        a1_acc = [0 for i in range(n_actions)]\n",
        "        a2_acc = [0 for i in range(n_actions)]\n",
        "        for episode in range(episodes):\n",
        "            print(f\"Episode: {episode}\")\n",
        "\n",
        "            observation, infos = env.reset(seed=42)\n",
        "            s1, s2 = self.get_single_state(observation['adversary_0'].tolist()), self.get_single_state(observation['agent_0'].tolist())\n",
        "            t = 0\n",
        "            total_reward1 = 0\n",
        "            total_reward2 = 0\n",
        "            if (episode+1)% 1500 == 0 :\n",
        "              epsilons *= 0.5\n",
        "            while env.agents:\n",
        "                a1 = self.epsilon_greedy(Qa, epsilons, n_actions, s1 , a2)\n",
        "                a2 = self.epsilon_greedy(Qb, epsilons, n_actions, s2, a1)\n",
        "                t += 1\n",
        "                actions = {'adversary_0': 0, 'agent_0': 0}\n",
        "                actions['adversary_0'] = a1\n",
        "                actions['agent_0'] = a2\n",
        "                s_, reward, terminations, truncations, infos = env.step(actions)\n",
        "                a1_acc[a1] +=1\n",
        "                a2_acc[a2] +=1\n",
        "                s_1, s_2 =  self.get_single_state(observation['adversary_0'].tolist()),  self.get_single_state(observation['agent_0'].tolist())\n",
        "                reward1, reward2 = reward[\"adversary_0\"], reward[\"agent_0\"]\n",
        "                total_reward1 += reward1\n",
        "                total_reward2 += reward2\n",
        "\n",
        "\n",
        "                aa_ = np.argmax([np.sum([Qa[s_1][i][j]*a2_acc[j] for j in range(n_actions)]) for i in range(n_actions)])\n",
        "                ab_ = np.argmax([np.sum([Qb[s_2][i][j]*a1_acc[j] for j in range(n_actions)]) for i in range(n_actions)])\n",
        "\n",
        "                # v[state_p] = np.argmax([np.sum([Q_sa[i][j][state]*p[j] for j in range(self.action_count)]) for i in range(self.action_count)])\n",
        "\n",
        "                Qa[s1, a1, a2] = (1- alpha) *Qa[s1, a1, a2]  + alpha * ( reward1+ (gamma * Qa[s_1, aa_, ab_])  )\n",
        "                Qb[s2, a2, a1] = (1 - alpha)* Qb[s2, a2, a1] + alpha * ( reward2 + (gamma * Qb[s_2,ab_, aa_])  )\n",
        "                s1, s2=  s_1, s_2\n",
        "            print(f\"This episode took {t} timesteps and reward1: {total_reward1} reward2: {total_reward2}\")\n",
        "            timestep_reward1.append(total_reward1)\n",
        "            timestep_reward2.append(total_reward2)\n",
        "\n",
        "        return timestep_reward1, timestep_reward2\n",
        "\n",
        "\n",
        "\n",
        "    def take_action(self):\n",
        "\n",
        "        rewards = self.sarsa(self.env, self.alpha, self.discount_factor, self.num_episodes)\n",
        "\n",
        "        return rewards"
      ]
    },
    {
      "cell_type": "code",
      "execution_count": 3,
      "metadata": {
        "colab": {
          "base_uri": "https://localhost:8080/"
        },
        "id": "T_o4jTuMz42b",
        "outputId": "a0dc6aaa-05a6-4e63-da5f-5e8e5edefbb2"
      },
      "outputs": [
        {
          "name": "stdout",
          "output_type": "stream",
          "text": [
            "Collecting gymnasium\n",
            "  Downloading gymnasium-0.29.1-py3-none-any.whl (953 kB)\n",
            "\u001b[2K     \u001b[90m━━━━━━━━━━━━━━━━━━━━━━━━━━━━━━━━━━━━━━━━\u001b[0m \u001b[32m953.9/953.9 kB\u001b[0m \u001b[31m14.0 MB/s\u001b[0m eta \u001b[36m0:00:00\u001b[0m\n",
            "\u001b[?25hRequirement already satisfied: numpy>=1.21.0 in /usr/local/lib/python3.10/dist-packages (from gymnasium) (1.23.5)\n",
            "Requirement already satisfied: cloudpickle>=1.2.0 in /usr/local/lib/python3.10/dist-packages (from gymnasium) (2.2.1)\n",
            "Requirement already satisfied: typing-extensions>=4.3.0 in /usr/local/lib/python3.10/dist-packages (from gymnasium) (4.5.0)\n",
            "Collecting farama-notifications>=0.0.1 (from gymnasium)\n",
            "  Downloading Farama_Notifications-0.0.4-py3-none-any.whl (2.5 kB)\n",
            "Installing collected packages: farama-notifications, gymnasium\n",
            "Successfully installed farama-notifications-0.0.4 gymnasium-0.29.1\n"
          ]
        }
      ],
      "source": [
        "!pip install gymnasium"
      ]
    },
    {
      "cell_type": "code",
      "execution_count": 4,
      "metadata": {
        "id": "uc_8GPyRzuB2"
      },
      "outputs": [],
      "source": [
        "enum_action = { 0: \"DO_nothing\", 0: \"LEFT\", 1: \"DOWN\", 2: \"RIGHT\", 3: \"UP\" }\n",
        "\n",
        "\n",
        "import gymnasium as gym\n",
        "from gymnasium.utils.save_video import save_video\n",
        "import numpy as np\n",
        "import time\n",
        "\n",
        "\n",
        "# hyperparameters\n",
        "REPS = 20\n",
        "EPISODES = 3000\n",
        "EPSILON = 0.8\n",
        "LEARNING_RATE = 0.1\n",
        "DISCOUNT = 0.9\n",
        "scale = 20\n"
      ]
    },
    {
      "cell_type": "code",
      "execution_count": 5,
      "metadata": {
        "colab": {
          "base_uri": "https://localhost:8080/"
        },
        "id": "0XmoxCKS0Dap",
        "outputId": "b57d4d79-e1bd-4829-cbbe-2e0a0baad408"
      },
      "outputs": [
        {
          "name": "stdout",
          "output_type": "stream",
          "text": [
            "Collecting pettingzoo[mpe]\n",
            "  Downloading pettingzoo-1.24.3-py3-none-any.whl (847 kB)\n",
            "\u001b[2K     \u001b[90m━━━━━━━━━━━━━━━━━━━━━━━━━━━━━━━━━━━━━━━━\u001b[0m \u001b[32m847.8/847.8 kB\u001b[0m \u001b[31m12.3 MB/s\u001b[0m eta \u001b[36m0:00:00\u001b[0m\n",
            "\u001b[?25hRequirement already satisfied: numpy>=1.21.0 in /usr/local/lib/python3.10/dist-packages (from pettingzoo[mpe]) (1.23.5)\n",
            "Requirement already satisfied: gymnasium>=0.28.0 in /usr/local/lib/python3.10/dist-packages (from pettingzoo[mpe]) (0.29.1)\n",
            "Collecting pygame==2.3.0 (from pettingzoo[mpe])\n",
            "  Downloading pygame-2.3.0-cp310-cp310-manylinux_2_17_x86_64.manylinux2014_x86_64.whl (13.8 MB)\n",
            "\u001b[2K     \u001b[90m━━━━━━━━━━━━━━━━━━━━━━━━━━━━━━━━━━━━━━━━\u001b[0m \u001b[32m13.8/13.8 MB\u001b[0m \u001b[31m45.7 MB/s\u001b[0m eta \u001b[36m0:00:00\u001b[0m\n",
            "\u001b[?25hRequirement already satisfied: cloudpickle>=1.2.0 in /usr/local/lib/python3.10/dist-packages (from gymnasium>=0.28.0->pettingzoo[mpe]) (2.2.1)\n",
            "Requirement already satisfied: typing-extensions>=4.3.0 in /usr/local/lib/python3.10/dist-packages (from gymnasium>=0.28.0->pettingzoo[mpe]) (4.5.0)\n",
            "Requirement already satisfied: farama-notifications>=0.0.1 in /usr/local/lib/python3.10/dist-packages (from gymnasium>=0.28.0->pettingzoo[mpe]) (0.0.4)\n",
            "Installing collected packages: pygame, pettingzoo\n",
            "  Attempting uninstall: pygame\n",
            "    Found existing installation: pygame 2.5.2\n",
            "    Uninstalling pygame-2.5.2:\n",
            "      Successfully uninstalled pygame-2.5.2\n",
            "Successfully installed pettingzoo-1.24.3 pygame-2.3.0\n"
          ]
        }
      ],
      "source": [
        "!pip install 'pettingzoo[mpe]'\n"
      ]
    },
    {
      "cell_type": "code",
      "execution_count": 6,
      "metadata": {
        "colab": {
          "base_uri": "https://localhost:8080/"
        },
        "id": "OH7vS-7DzuB3",
        "outputId": "3dd8d6bf-a9ae-49cc-e4c4-8f5ecc126518"
      },
      "outputs": [
        {
          "data": {
            "text/plain": [
              "({'adversary_0': array([-1.3595574 ,  1.0734879 ,  0.16928375,  0.51697916], dtype=float32),\n",
              "  'agent_0': array([-1.5288411 ,  0.55650866, -1.5288411 ,  0.55650866, -0.16928375,\n",
              "         -0.51697916], dtype=float32)},\n",
              " {'adversary_0': {}, 'agent_0': {}})"
            ]
          },
          "execution_count": 6,
          "metadata": {},
          "output_type": "execute_result"
        }
      ],
      "source": [
        "from pettingzoo.mpe import simple_adversary_v3,simple_v3\n",
        "\n",
        "\n",
        "env = simple_adversary_v3.parallel_env(N=1 ,max_cycles=25, continuous_actions=False,render_mode=\"human\")\n",
        "env.reset(seed=42)\n",
        "\n"
      ]
    },
    {
      "cell_type": "code",
      "execution_count": 7,
      "metadata": {
        "colab": {
          "base_uri": "https://localhost:8080/"
        },
        "id": "dEFm-q7AzuB3",
        "outputId": "a2debfd4-ac39-4117-b618-0078ef94eaa8"
      },
      "outputs": [
        {
          "name": "stdout",
          "output_type": "stream",
          "text": [
            "adversary_0 4\n",
            "agent_0 6\n"
          ]
        }
      ],
      "source": [
        "for agent in env.agents:\n",
        "    print(agent, env.observation_space(agent).shape[0])\n",
        "    observ_space_num =env.observation_space(agent).shape[0]\n"
      ]
    },
    {
      "cell_type": "code",
      "execution_count": 8,
      "metadata": {
        "colab": {
          "base_uri": "https://localhost:8080/"
        },
        "id": "mQz3s8KjzuB4",
        "outputId": "db0d81e5-a6d2-4b4c-cdd0-7c9ffaf28212"
      },
      "outputs": [
        {
          "name": "stdout",
          "output_type": "stream",
          "text": [
            "adversary_0 5\n",
            "agent_0 5\n"
          ]
        }
      ],
      "source": [
        "for agent in env.agents:\n",
        "    print(agent, env.action_space(agent).n)\n",
        "    action_space_num =env.action_space(agent).n\n"
      ]
    },
    {
      "cell_type": "code",
      "execution_count": 10,
      "metadata": {
        "id": "Uv_aKnO30Rj2"
      },
      "outputs": [],
      "source": [
        "import os\n",
        "os.environ[\"SDL_VIDEODRIVER\"] = \"dummy\""
      ]
    },
    {
      "cell_type": "code",
      "execution_count": null,
      "metadata": {
        "id": "3WOZwimDhT0-"
      },
      "outputs": [],
      "source": [
        "# hyperparameters\n",
        "REPS = 20\n",
        "EPISODES = 3000\n",
        "EPSILON = 0.8\n",
        "LEARNING_RATE = 0.1\n",
        "DISCOUNT = 0.9\n",
        "scale = 20\n",
        "\n",
        "qlearn = blief_based_q_agent(DISCOUNT ,EPISODES ,LEARNING_RATE , env)\n",
        "r1_minmax, r2_minmax = qlearn.take_action()\n"
      ]
    },
    {
      "cell_type": "code",
      "execution_count": 15,
      "metadata": {
        "colab": {
          "base_uri": "https://localhost:8080/",
          "height": 489
        },
        "id": "CLiVaXINzuB5",
        "outputId": "eb673544-45fb-45b7-f361-83eb429adfaf"
      },
      "outputs": [
        {
          "data": {
            "text/plain": [
              "[]"
            ]
          },
          "execution_count": 15,
          "metadata": {},
          "output_type": "execute_result"
        },
        {
          "data": {
            "image/png": "[encoded data removed]",
            "text/plain": [
              "<Figure size 640x480 with 1 Axes>"
            ]
          },
          "metadata": {},
          "output_type": "display_data"
        }
      ],
      "source": [
        "import matplotlib.pyplot as plt\n",
        "\n",
        "def moving_average(a, n=3) :\n",
        "    ret = np.cumsum(a, dtype=float)\n",
        "    ret[n:] = ret[n:] - ret[:-n]\n",
        "    return ret[n - 1:] / n\n",
        "plt.plot(moving_average(r1_minmax, n=100), label = 'Adversary agent')\n",
        "plt.plot(moving_average(r2_minmax, n=100), label='Good agent')\n",
        "plt.xlabel(\"Episode\")\n",
        "plt.ylabel(\"Average Reward\")\n",
        "plt.title(\"Average Reward per Episode for Belief based Algorithm\")\n",
        "plt.legend()\n",
        "plt.plot()"
      ]
    },
    {
      "cell_type": "code",
      "execution_count": null,
      "metadata": {
        "id": "MI0iQLKGPcjg"
      },
      "outputs": [],
      "source": [
        "def moving_average(a, n=3) :\n",
        "    ret = np.cumsum(a, dtype=float)\n",
        "    ret[n:] = ret[n:] - ret[:-n]\n",
        "    return ret[n - 1:] / n\n",
        "\n",
        "\n",
        "plt.plot(moving_average(total_rewards, n=100))\n"
      ]
    }
  ],
  "metadata": {
    "colab": {
      "provenance": []
    },
    "kernelspec": {
      "display_name": "Python 3",
      "language": "python",
      "name": "python3"
    },
    "language_info": {
      "codemirror_mode": {
        "name": "ipython",
        "version": 3
      },
      "file_extension": ".py",
      "mimetype": "text/x-python",
      "name": "python",
      "nbconvert_exporter": "python",
      "pygments_lexer": "ipython3",
      "version": "3.11.4"
    }
  },
  "nbformat": 4,
  "nbformat_minor": 0
}
